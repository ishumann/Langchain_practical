{
 "cells": [
  {
   "cell_type": "markdown",
   "metadata": {},
   "source": [
    "# API Call to OpenAI and Huggingface\n"
   ]
  },
  {
   "cell_type": "code",
   "execution_count": null,
   "metadata": {},
   "outputs": [],
   "source": [
    "from langchain.llms import OpenAI\n",
    "from dotenv import load_dotenv\n",
    "\n",
    "load_dotenv()\n",
    "import os\n",
    "\n",
    "# from langchain_openai import ChatOpenAI\n"
   ]
  },
  {
   "cell_type": "code",
   "execution_count": 8,
   "metadata": {},
   "outputs": [],
   "source": [
    "llm = OpenAI(openai_api_key=os.environ[\"OPENAI_API_KEY\"], temperature=0.6)\n",
    "\n",
    "\n",
    "# gpt_4o_mini = ChatOpenAI(\n",
    "\n",
    "#     openai_api_key=os.environ[\"OPEN_API_KEY\"], temperature=0.6, model=\"gpt-4o-mini\"\n",
    "\n",
    "# )\n"
   ]
  },
  {
   "cell_type": "code",
   "execution_count": 9,
   "metadata": {},
   "outputs": [
    {
     "name": "stdout",
     "output_type": "stream",
     "text": [
      "\n",
      "\n",
      "The capital of India is New Delhi.\n"
     ]
    }
   ],
   "source": [
    "text = \"whats the capital of india\"\n",
    "\n",
    "print(llm.invoke(text))\n",
    "# print(gpt_4o_mini.invoke(text).content)\n"
   ]
  },
  {
   "cell_type": "code",
   "execution_count": 5,
   "metadata": {},
   "outputs": [],
   "source": []
  },
  {
   "cell_type": "code",
   "execution_count": 6,
   "metadata": {},
   "outputs": [
    {
     "name": "stderr",
     "output_type": "stream",
     "text": [
      "C:\\Users\\X1 Yoga\\AppData\\Local\\Temp\\ipykernel_16924\\995628117.py:3: LangChainDeprecationWarning: The class `HuggingFaceHub` was deprecated in LangChain 0.0.21 and will be removed in 1.0. An updated version of the class exists in the :class:`~langchain-huggingface package and should be used instead. To use it run `pip install -U :class:`~langchain-huggingface` and import as `from :class:`~langchain_huggingface import HuggingFaceEndpoint``.\n",
      "  llm_huggingface = HuggingFaceHub(\n"
     ]
    }
   ],
   "source": [
    "from langchain import HuggingFaceHub\n",
    "\n",
    "llm_huggingface = HuggingFaceHub(\n",
    "    repo_id=\"google/flan-t5-large\", model_kwargs={\"temperature\": 0, \"max_length\": 64}\n",
    ")\n"
   ]
  },
  {
   "cell_type": "code",
   "execution_count": 7,
   "metadata": {},
   "outputs": [
    {
     "name": "stderr",
     "output_type": "stream",
     "text": [
      "C:\\Users\\X1 Yoga\\AppData\\Local\\Temp\\ipykernel_16924\\301681401.py:1: LangChainDeprecationWarning: The method `BaseLLM.predict` was deprecated in langchain-core 0.1.7 and will be removed in 1.0. Use :meth:`~invoke` instead.\n",
      "  output = llm_huggingface.predict(\"write a poem about cricket\")\n"
     ]
    },
    {
     "data": {
      "text/plain": [
       "'cricket is a game that is played by all'"
      ]
     },
     "execution_count": 7,
     "metadata": {},
     "output_type": "execute_result"
    }
   ],
   "source": [
    "output = llm_huggingface.predict(\"write a poem about cricket\")\n",
    "output\n"
   ]
  },
  {
   "cell_type": "code",
   "execution_count": 8,
   "metadata": {},
   "outputs": [
    {
     "name": "stdout",
     "output_type": "stream",
     "text": [
      "\n",
      "\n",
      "Cricket, a game of grace and skill\n",
      "Where bat and ball collide with thrill\n",
      "On a field of green, the players stand\n",
      "With determination in their hand\n",
      "\n",
      "The sound of leather on willow\n",
      "Echoes through the air, oh so mellow\n",
      "As the bowler runs in with all his might\n",
      "The batsman stands ready to fight\n",
      "\n",
      "The crowd roars with every hit\n",
      "As the ball flies, oh how it flits\n",
      "Over the boundary, for a six\n",
      "Or a quick single, a clever mix\n",
      "\n",
      "The fielders chase with all their might\n",
      "To stop the runs, with all their sight\n",
      "Diving, sliding, giving their all\n",
      "For the love of this game, they stand tall\n",
      "\n",
      "The sun beats down, the sweat drips\n",
      "But not a single player skips\n",
      "For they know, this is their passion\n",
      "And in this game, they find their fashion\n",
      "\n",
      "From test matches that last for days\n",
      "To T20s with their explosive ways\n",
      "Cricket brings us all together\n",
      "In a bond that will last forever\n",
      "\n",
      "It's more than just a sport, you see\n",
      "It's a way of life, a symphony\n",
      "Of teamwork, strategy, and skill\n",
      "That makes our hearts beat, oh so still\n",
      "\n",
      "\n"
     ]
    }
   ],
   "source": [
    "print(llm.predict(\"write a poem about cricket\"))\n"
   ]
  },
  {
   "cell_type": "markdown",
   "metadata": {},
   "source": [
    "# Prompt Template\n"
   ]
  },
  {
   "cell_type": "markdown",
   "metadata": {},
   "source": [
    "what is prompt template?\n",
    "\n",
    "1. Prompt template is a predefined template that is used to generate the prompt for the model to generate the text.\n"
   ]
  },
  {
   "cell_type": "code",
   "execution_count": null,
   "metadata": {},
   "outputs": [],
   "source": []
  },
  {
   "cell_type": "code",
   "execution_count": null,
   "metadata": {},
   "outputs": [
    {
     "data": {
      "text/plain": [
       "'Tell me the capital of India'"
      ]
     },
     "execution_count": 9,
     "metadata": {},
     "output_type": "execute_result"
    }
   ],
   "source": [
    "from langchain.prompts import PromptTemplate\n",
    "\n",
    "prompt_template = PromptTemplate(\n",
    "    input_variables=[\"country\"], template=\"Tell me the capital of {country}\"\n",
    ")\n",
    "prompt_template.format(country=\"India\")\n"
   ]
  },
  {
   "cell_type": "code",
   "execution_count": null,
   "metadata": {},
   "outputs": [
    {
     "data": {
      "text/plain": [
       "LLMResult(generations=[[Generation(text='\\n\\nThe capital of India is New Delhi.', generation_info={'finish_reason': 'stop', 'logprobs': None})]], llm_output={'token_usage': {'completion_tokens': 9, 'prompt_tokens': 6, 'total_tokens': 15}, 'model_name': 'gpt-3.5-turbo-instruct'}, run=[RunInfo(run_id=UUID('5f78706e-e187-4a5e-a5a3-a0fca69ebef4'))], type='LLMResult')"
      ]
     },
     "execution_count": 10,
     "metadata": {},
     "output_type": "execute_result"
    }
   ],
   "source": [
    "llm.generate(prompts=[prompt_template.format(country=\"India\")])\n"
   ]
  },
  {
   "cell_type": "code",
   "execution_count": null,
   "metadata": {},
   "outputs": [
    {
     "name": "stderr",
     "output_type": "stream",
     "text": [
      "C:\\Users\\X1 Yoga\\AppData\\Local\\Temp\\ipykernel_16924\\4131566379.py:4: LangChainDeprecationWarning: The class `LLMChain` was deprecated in LangChain 0.1.17 and will be removed in 1.0. Use :meth:`~RunnableSequence, e.g., `prompt | llm`` instead.\n",
      "  chain = LLMChain(llm=llm, prompt=prompt_template)\n"
     ]
    },
    {
     "data": {
      "text/plain": [
       "{'country': 'india', 'text': '\\n\\nThe capital of India is New Delhi.'}"
      ]
     },
     "execution_count": 11,
     "metadata": {},
     "output_type": "execute_result"
    }
   ],
   "source": [
    "from langchain.chains import LLMChain\n",
    "\n",
    "\n",
    "chain = LLMChain(llm=llm, prompt=prompt_template)\n",
    "\n",
    "\n",
    "chain.invoke(\"india\")\n"
   ]
  },
  {
   "cell_type": "markdown",
   "metadata": {},
   "source": [
    "# Combining Multiple chains Using simple Sequential chains\n"
   ]
  },
  {
   "cell_type": "code",
   "execution_count": 12,
   "metadata": {},
   "outputs": [],
   "source": [
    "capital_prompt = PromptTemplate(\n",
    "    input_variable=[\"country\"], template=\"Please tell me the capital of {country}.\"\n",
    ")\n",
    "capital_chain = LLMChain(llm=llm, prompt=capital_prompt)\n",
    "\n",
    "\n",
    "famous_template = PromptTemplate(\n",
    "    input_variable=[\"capital\"],\n",
    "    template=\"suggest me some amazing places to visit in {capital}\",\n",
    ")\n",
    "famous_chain = LLMChain(llm=llm, prompt=famous_template)\n"
   ]
  },
  {
   "cell_type": "code",
   "execution_count": 13,
   "metadata": {},
   "outputs": [
    {
     "name": "stdout",
     "output_type": "stream",
     "text": [
      "{'input': 'india', 'output': \" Here are some amazing places to visit in New Delhi:\\n\\n1. Red Fort - a historic fort built by Mughal Emperor Shah Jahan\\n2. Qutub Minar - a UNESCO World Heritage Site and the tallest minaret in India\\n3. India Gate - a war memorial dedicated to Indian soldiers who died in World War I\\n4. Lotus Temple - a Bahá'í House of Worship known for its unique lotus-shaped architecture\\n5. Humayun's Tomb - another UNESCO World Heritage Site and the tomb of Mughal Emperor Humayun\\n6. Akshardham Temple - a beautiful Hindu temple complex known for its grand architecture and spiritual atmosphere\\n7. Jama Masjid - one of the largest mosques in India, built by Mughal Emperor Shah Jahan\\n8. Chandni Chowk - one of the oldest and busiest markets in Delhi, famous for street food and shopping\\n9. Rashtrapati Bhavan - the official residence of the President of India, with stunning architecture and gardens\\n10. National Gallery of Modern Art - a must-visit for art lovers, showcasing modern and contemporary Indian art.\"}\n"
     ]
    }
   ],
   "source": [
    "from langchain.chains import SimpleSequentialChain\n",
    "\n",
    "chain = SimpleSequentialChain(chains=[capital_chain, famous_chain])\n",
    "print(chain.invoke(\"india\"))\n"
   ]
  },
  {
   "cell_type": "code",
   "execution_count": null,
   "metadata": {},
   "outputs": [
    {
     "name": "stdout",
     "output_type": "stream",
     "text": [
      "{'input': 'india', 'output': \" Some amazing places to visit in New Delhi are:\\n1. Red Fort - a historical fort built during the Mughal era\\n2. Qutub Minar - a 73-meter tall tower built in the 12th century\\n3. India Gate - a war memorial and popular picnic spot\\n4. Lotus Temple - a beautiful Bahai House of Worship\\n5. Jama Masjid - one of the largest mosques in India\\n6. Humayun's Tomb - a stunning mausoleum and UNESCO World Heritage Site\\n7. Chandni Chowk - a bustling market known for its street food and shopping\\n8. Rashtrapati Bhavan - the official residence of the President of India\\n9. Akshardham Temple - a magnificent Hindu temple complex\\n10. National Gallery of Modern Art - a must-visit for art lovers.\"}\n"
     ]
    }
   ],
   "source": [
    "capital_prompt = PromptTemplate(\n",
    "    input_variable=[\"country\"], template=\"Please tell me the capital of {country}.\"\n",
    ")\n",
    "capital_chain = LLMChain(llm=llm, prompt=capital_prompt)\n",
    "\n",
    "\n",
    "famous_template = PromptTemplate(\n",
    "    input_variable=[\"capital\"],\n",
    "    template=\"suggest me some amazing places to visit in {capital}\",\n",
    ")\n",
    "famous_chain = LLMChain(llm=llm, prompt=famous_template)\n",
    "chain = SimpleSequentialChain(chains=[capital_chain, famous_chain])\n",
    "print(chain.invoke(\"india\"))\n"
   ]
  },
  {
   "cell_type": "code",
   "execution_count": null,
   "metadata": {},
   "outputs": [],
   "source": []
  },
  {
   "cell_type": "markdown",
   "metadata": {},
   "source": [
    "## Sequential Chain\n"
   ]
  },
  {
   "cell_type": "code",
   "execution_count": null,
   "metadata": {},
   "outputs": [],
   "source": [
    "capital_template = PromptTemplate(\n",
    "    input_variables=[\"country\"], template=\"Please tell me the capital of the {country}\"\n",
    ")\n",
    "\n",
    "capital_chain = LLMChain(llm=llm, prompt=capital_prompt, output_key=\"capital\")\n",
    "famous_template = PromptTemplate(\n",
    "    input_variable=[\"capital\"],\n",
    "    template=\"suggest me some amazing places to visit in {capital}\",\n",
    ")\n",
    "famous_chain = LLMChain(llm=llm, prompt=famous_template, output_key=\"places\")\n"
   ]
  },
  {
   "cell_type": "code",
   "execution_count": null,
   "metadata": {},
   "outputs": [],
   "source": [
    "from langchain.chains import SequentialChain\n",
    "\n",
    "chain = SequentialChain(\n",
    "    chains=[capital_chain, famous_chain],\n",
    "    input_variables=[\"country\"],\n",
    "    output_variables=[\"capital\", \"places\"],\n",
    ")\n"
   ]
  },
  {
   "cell_type": "code",
   "execution_count": null,
   "metadata": {},
   "outputs": [
    {
     "data": {
      "text/plain": [
       "{'country': 'india',\n",
       " 'capital': 'The capital of India is New Delhi.',\n",
       " 'places': \"New Delhi, the capital of India, is a vibrant city that seamlessly blends history, culture, and modernity. Here are some amazing places to visit in New Delhi:\\n\\n1. **India Gate**: A war memorial dedicated to Indian soldiers who died in World War I, this iconic arch is surrounded by lush lawns and is a popular spot for picnics.\\n\\n2. **Qutub Minar**: A UNESCO World Heritage Site, this towering minaret is the tallest brick minaret in the world and is surrounded by ancient ruins and beautiful gardens.\\n\\n3. **Humayun's Tomb**: Another UNESCO World Heritage Site, this stunning Mughal garden tomb is a precursor to the Taj Mahal and features beautiful architecture and serene gardens.\\n\\n4. **Lotus Temple**: Known for its unique lotus-shaped structure, this Bahá'í House of Worship is open to all and offers a peaceful space for meditation and reflection.\\n\\n5. **Red Fort**: A UNESCO World Heritage Site, this massive fort built in the 17th century is a symbol of India’s rich history and features beautiful architecture.\\n\\n6. **Akshardham Temple**: An architectural marvel, this Hindu temple complex showcases intricate carvings and offers exhibitions about Indian culture and spirituality.\\n\\n7. **Chandni Chowk**: One of the oldest markets in Delhi, this bustling area is known for its narrow lanes, street food, and vibrant bazaars selling everything from textiles to spices.\\n\\n8. **Connaught Place**: A popular shopping and dining area, this circular market is filled with shops, restaurants, and cafes, making it a great place to relax and enjoy the atmosphere.\\n\\n9. **Lodhi Gardens**: A beautiful park featuring historical tombs and lush greenery, it's a perfect spot for a leisurely stroll, jogging, or a picnic.\\n\\n10. **National Museum**: Home to a vast collection of artifacts that showcase India's rich cultural heritage, this museum is a must-visit for history enthusiasts.\\n\\n11. **Jama Masjid**: One of the largest mosques in India, this stunning structure offers breathtaking views from its minarets and is a significant site for the Muslim community.\\n\\n12. **Dilli Haat**: An open-air market that features handicrafts and food from different states of India, it's a great place to shop for souvenirs and enjoy diverse cuisines.\\n\\n13. **Raj Ghat**: The memorial of Mahatma Gandhi, this serene site is set in beautiful gardens and serves as a reminder of his legacy.\\n\\n14. **National Gallery of Modern Art**: This art gallery houses an impressive collection of modern and contemporary Indian art, making it a cultural highlight of the city.\\n\\n15. **Gurudwara Bangla Sahib**: A prominent Sikh temple, known for its beautiful architecture and the community kitchen (langar) that serves free meals to thousands daily.\\n\\nThese places offer a glimpse into the rich history, culture, and diversity of New Delhi, making it a fascinating destination for travelers.\"}"
      ]
     },
     "execution_count": 18,
     "metadata": {},
     "output_type": "execute_result"
    }
   ],
   "source": [
    "chain.invoke({\"country\": \"india\"})\n"
   ]
  },
  {
   "cell_type": "markdown",
   "metadata": {},
   "source": [
    "# ChatModels with ChatOpenAI\n"
   ]
  },
  {
   "cell_type": "markdown",
   "metadata": {},
   "source": []
  },
  {
   "cell_type": "code",
   "execution_count": 21,
   "metadata": {},
   "outputs": [],
   "source": [
    "from langchain.chat_models import ChatOpenAI\n"
   ]
  },
  {
   "cell_type": "code",
   "execution_count": 25,
   "metadata": {},
   "outputs": [
    {
     "name": "stderr",
     "output_type": "stream",
     "text": [
      "C:\\Users\\X1 Yoga\\AppData\\Local\\Temp\\ipykernel_16924\\3705060528.py:1: LangChainDeprecationWarning: The class `ChatOpenAI` was deprecated in LangChain 0.0.10 and will be removed in 1.0. An updated version of the class exists in the :class:`~langchain-openai package and should be used instead. To use it run `pip install -U :class:`~langchain-openai` and import as `from :class:`~langchain_openai import ChatOpenAI``.\n",
      "  gpt_4o_mini = ChatOpenAI(\n"
     ]
    }
   ],
   "source": [
    "gpt_4o_mini = ChatOpenAI(\n",
    "    openai_api_key=os.environ[\"OPEN_API_KEY\"], temperature=0.6, model=\"gpt-4o-mini\"\n",
    ")\n"
   ]
  },
  {
   "cell_type": "code",
   "execution_count": 28,
   "metadata": {},
   "outputs": [],
   "source": [
    "from langchain_openai import ChatOpenAI\n"
   ]
  },
  {
   "cell_type": "code",
   "execution_count": 29,
   "metadata": {},
   "outputs": [],
   "source": [
    "from langchain.schema import HumanMessage, SystemMessage, AIMessage\n"
   ]
  },
  {
   "cell_type": "code",
   "execution_count": 33,
   "metadata": {},
   "outputs": [
    {
     "name": "stdout",
     "output_type": "stream",
     "text": [
      "content='**Title: \"Indian Politics: The Ultimate Reality Show\"**\\n\\n*[Walks on stage, adjusts the mic, and grins at the audience]*\\n\\nHey everyone! So, let’s talk about Indian politics... because honestly, it’s the only reality show where the drama is real, the contestants are questionable, and the audience is just confused!\\n\\n*[Pauses for laughter]*\\n\\nYou know, Indian politics is like that family wedding you go to. You know it’s going to be chaotic, but you still show up because you want to see who’s going to start the drama! There’s always that one uncle who thinks he can fix everything. “Beta, I have a solution for inflation. Just stop eating!” \\n\\n*[Imitates the uncle]*\\n\\n“Daal hai, roti hai, kya chahiye? You want a five-star meal? Order Zomato!” \\n\\n*[Laughter]*\\n\\nAnd let’s not forget the politicians themselves! They are like those Bollywood actors who keep coming back with sequels. “Oh, you thought we were done? Here’s ‘Dangal 3: The Return of the Promises’!”\\n\\n*[Pauses for effect]*\\n\\nI mean, every election season feels like a blockbuster movie. The trailers drop, and suddenly everyone is an expert in politics! “Did you see that speech? He’s definitely going to win!” Meanwhile, I’m just here wondering if I should invest in popcorn or a good therapist!\\n\\n*[Pretends to munch popcorn]*\\n\\nAnd the manifestos! Oh my God! They’re like that friend who promises to go on a diet but ends up with extra cheese on everything. “We will provide jobs, build roads, and bring world peace!” Yeah, right! And I promise to lose 10 kg by next week!\\n\\n*[Laughter]*\\n\\nBut you know what’s the best part? The press conferences! It’s like watching a game of ‘Simon Says’ but with zero accountability! “Simon says, ‘I didn’t say that!’” \\n\\n*[Mimics a politician]*\\n\\n“Did I say we’ll end corruption? No, I said we’ll ‘try’ to end it. You know, ‘try’ is a very flexible word! Like ‘maybe’ in a relationship!” \\n\\n*[Laughter]*\\n\\nAnd then there are the rallies! Oh boy! It’s like a college fest but with more slogans and fewer people who actually understand what’s going on. “Vote for me, and I’ll change your life!” Meanwhile, I’m just hoping they’ll change my Wi-Fi speed!\\n\\n*[Nods knowingly]*\\n\\nAnd let’s talk about social media! Politicians on social media are like that one friend who posts motivational quotes every day. “Believe in yourself!” Yes, but can you believe in your promises too? \\n\\n*[Pretends to scroll on a phone]*\\n\\nAnd the memes! Oh, the memes! They’re the real MVPs of Indian politics! I mean, who needs news when you can get the entire political scenario from a meme page? “Breaking News: Politician promises to solve potholes, but ends up creating a swimming pool!” \\n\\n*[Mimics a swimmer diving into a pothole]*\\n\\nAnd can we talk about the debates? It’s like watching a reality show where everyone is trying to out-shout each other. “I have a plan!” “No, I have a better plan!” “My plan is the best!” Meanwhile, I’m just sitting there thinking… “Can someone just plan my dinner instead?”\\n\\n*[Laughs with the audience]*\\n\\nBut in the end, we all know that Indian politics is like a roller coaster. It’s thrilling, it’s scary, and you just hope you don’t throw up! \\n\\n*[Pauses and grins]*\\n\\nSo let’s raise a toast to our politicians! May they continue to entertain us, confuse us, and occasionally… actually do something useful!\\n\\n*[Raises imaginary glass]* \\n\\nThank you, everyone! You’ve been fantastic! Keep questioning, keep laughing, and remember: in the world of Indian politics, the only constant is… change! \\n\\n*[Waves and exits the stage]*' additional_kwargs={} response_metadata={'token_usage': {'completion_tokens': 850, 'prompt_tokens': 41, 'total_tokens': 891, 'completion_tokens_details': {'accepted_prediction_tokens': 0, 'audio_tokens': 0, 'reasoning_tokens': 0, 'rejected_prediction_tokens': 0}, 'prompt_tokens_details': {'audio_tokens': 0, 'cached_tokens': 0}}, 'model_name': 'gpt-4o-mini', 'system_fingerprint': 'fp_6fc10e10eb', 'finish_reason': 'stop', 'logprobs': None} id='run-aae816af-929e-4aa1-b586-19c4ccc500de-0'\n"
     ]
    }
   ],
   "source": [
    "print(\n",
    "    gpt_4o_mini.invoke(\n",
    "        [\n",
    "            SystemMessage(content=\"you are a comedian\"),\n",
    "            HumanMessage(\n",
    "                content=\"create a 5 min  open mic content on indian poltics resemble the standup comedian Samay Raina comedy style.\"\n",
    "            ),\n",
    "        ]\n",
    "    )\n",
    ")\n"
   ]
  },
  {
   "cell_type": "markdown",
   "metadata": {},
   "source": [
    "# Prompt Template + LLM + Output Parsers\n"
   ]
  },
  {
   "cell_type": "code",
   "execution_count": 34,
   "metadata": {},
   "outputs": [],
   "source": [
    "from langchain_openai import ChatOpenAI\n",
    "from langchain.prompts.chat import ChatPromptTemplate\n",
    "from langchain.schema import BaseOutputParser\n"
   ]
  },
  {
   "cell_type": "code",
   "execution_count": 53,
   "metadata": {},
   "outputs": [],
   "source": [
    "class Commaseperatedoutput(BaseOutputParser):\n",
    "    def parse(self, text: str):\n",
    "        return text.strip().split(\"\\n\")\n",
    "        return text\n"
   ]
  },
  {
   "cell_type": "code",
   "execution_count": null,
   "metadata": {},
   "outputs": [],
   "source": []
  },
  {
   "cell_type": "code",
   "execution_count": 54,
   "metadata": {},
   "outputs": [],
   "source": [
    "template = \"you're are a helpful assistant. When the use given any input, you should generate 5 words synonyms.\"\n",
    "human_template = \"{text}\"\n",
    "chatprompt = ChatPromptTemplate.from_messages(\n",
    "    [(\"system\", template), (\"human\", human_template)]\n",
    ")\n"
   ]
  },
  {
   "cell_type": "code",
   "execution_count": 55,
   "metadata": {},
   "outputs": [],
   "source": [
    "chain = chatprompt | gpt_4o_mini | Commaseperatedoutput()\n"
   ]
  },
  {
   "cell_type": "code",
   "execution_count": 56,
   "metadata": {},
   "outputs": [
    {
     "data": {
      "text/plain": [
       "['1. Chance', '2. Luck', '3. Fortune', '4. Coincidence', '5. Providence']"
      ]
     },
     "execution_count": 56,
     "metadata": {},
     "output_type": "execute_result"
    }
   ],
   "source": [
    "chain.invoke({\"text\": \"serendipity\"})\n"
   ]
  },
  {
   "cell_type": "code",
   "execution_count": null,
   "metadata": {},
   "outputs": [],
   "source": []
  }
 ],
 "metadata": {
  "kernelspec": {
   "display_name": "llmproj",
   "language": "python",
   "name": "python3"
  },
  "language_info": {
   "codemirror_mode": {
    "name": "ipython",
    "version": 3
   },
   "file_extension": ".py",
   "mimetype": "text/x-python",
   "name": "python",
   "nbconvert_exporter": "python",
   "pygments_lexer": "ipython3",
   "version": "3.10.16"
  }
 },
 "nbformat": 4,
 "nbformat_minor": 2
}
